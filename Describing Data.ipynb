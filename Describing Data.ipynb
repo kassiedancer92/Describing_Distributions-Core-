{
 "cells": [
  {
   "cell_type": "markdown",
   "id": "f86774db",
   "metadata": {},
   "source": [
    "## Describing Data (Core)\n",
    "9/4/23\n",
    "Kass Doran\n",
    "\n",
    "##### The features to analyze: \n",
    "- VitD_levels\n",
    "- Doc_visits\n",
    "- TotalCharge\n",
    "\n",
    "\n",
    "##### For each feature listed:\n",
    "- Plot a histogram with a kde (kernel density estimate)\n",
    "- Add a line for the mean (red)\n",
    "- Add a line for the median (green)\n",
    "- Add a line for for +1 std from the mean (black)\n",
    "- Add a line for the - 1 std from the mean (black)\n",
    "- Highlight the range between +1 and =1 std (yellow)\n",
    "\n",
    "\n",
    "##### Answer the following questions:\n",
    "- Is it Discrete or Continuous?\n",
    "- Does it have a skew? If so, which direction (+/-)\n",
    "- What type of kurtosis does it display? (Mesokurtic, Leptokurtic, Platykurtic)"
   ]
  },
  {
   "cell_type": "code",
   "execution_count": 61,
   "id": "bc71ea3e",
   "metadata": {},
   "outputs": [],
   "source": [
    "#import librarys \n",
    "import pandas as pd\n",
    "import numpy as np\n",
    "import matplotlib.pyplot as plt\n",
    "import seaborn as sns\n",
    "from scipy.stats import kurtosis"
   ]
  },
  {
   "cell_type": "code",
   "execution_count": 62,
   "id": "a80ce9c8",
   "metadata": {},
   "outputs": [
    {
     "data": {
      "text/html": [
       "<div>\n",
       "<style scoped>\n",
       "    .dataframe tbody tr th:only-of-type {\n",
       "        vertical-align: middle;\n",
       "    }\n",
       "\n",
       "    .dataframe tbody tr th {\n",
       "        vertical-align: top;\n",
       "    }\n",
       "\n",
       "    .dataframe thead th {\n",
       "        text-align: right;\n",
       "    }\n",
       "</style>\n",
       "<table border=\"1\" class=\"dataframe\">\n",
       "  <thead>\n",
       "    <tr style=\"text-align: right;\">\n",
       "      <th></th>\n",
       "      <th>State</th>\n",
       "      <th>Lat</th>\n",
       "      <th>Lng</th>\n",
       "      <th>Area</th>\n",
       "      <th>Children</th>\n",
       "      <th>Age</th>\n",
       "      <th>Income</th>\n",
       "      <th>Marital</th>\n",
       "      <th>Gender</th>\n",
       "      <th>ReAdmis</th>\n",
       "      <th>...</th>\n",
       "      <th>Hyperlipidemia</th>\n",
       "      <th>BackPain</th>\n",
       "      <th>Anxiety</th>\n",
       "      <th>Allergic_rhinitis</th>\n",
       "      <th>Reflux_esophagitis</th>\n",
       "      <th>Asthma</th>\n",
       "      <th>Services</th>\n",
       "      <th>Initial_days</th>\n",
       "      <th>TotalCharge</th>\n",
       "      <th>Additional_charges</th>\n",
       "    </tr>\n",
       "  </thead>\n",
       "  <tbody>\n",
       "    <tr>\n",
       "      <th>0</th>\n",
       "      <td>AL</td>\n",
       "      <td>34.34960</td>\n",
       "      <td>-86.72508</td>\n",
       "      <td>Suburban</td>\n",
       "      <td>1.0</td>\n",
       "      <td>53</td>\n",
       "      <td>86575.93</td>\n",
       "      <td>Divorced</td>\n",
       "      <td>Male</td>\n",
       "      <td>0</td>\n",
       "      <td>...</td>\n",
       "      <td>0.0</td>\n",
       "      <td>1.0</td>\n",
       "      <td>1.0</td>\n",
       "      <td>1.0</td>\n",
       "      <td>0</td>\n",
       "      <td>1</td>\n",
       "      <td>Blood Work</td>\n",
       "      <td>10.585770</td>\n",
       "      <td>3726.702860</td>\n",
       "      <td>17939.403420</td>\n",
       "    </tr>\n",
       "    <tr>\n",
       "      <th>1</th>\n",
       "      <td>FL</td>\n",
       "      <td>30.84513</td>\n",
       "      <td>-85.22907</td>\n",
       "      <td>Urban</td>\n",
       "      <td>3.0</td>\n",
       "      <td>51</td>\n",
       "      <td>46805.99</td>\n",
       "      <td>Married</td>\n",
       "      <td>Female</td>\n",
       "      <td>0</td>\n",
       "      <td>...</td>\n",
       "      <td>0.0</td>\n",
       "      <td>0.0</td>\n",
       "      <td>0.0</td>\n",
       "      <td>0.0</td>\n",
       "      <td>1</td>\n",
       "      <td>0</td>\n",
       "      <td>Intravenous</td>\n",
       "      <td>15.129562</td>\n",
       "      <td>4193.190458</td>\n",
       "      <td>17612.998120</td>\n",
       "    </tr>\n",
       "    <tr>\n",
       "      <th>2</th>\n",
       "      <td>SD</td>\n",
       "      <td>43.54321</td>\n",
       "      <td>-96.63772</td>\n",
       "      <td>Suburban</td>\n",
       "      <td>3.0</td>\n",
       "      <td>53</td>\n",
       "      <td>14370.14</td>\n",
       "      <td>Widowed</td>\n",
       "      <td>Female</td>\n",
       "      <td>0</td>\n",
       "      <td>...</td>\n",
       "      <td>0.0</td>\n",
       "      <td>0.0</td>\n",
       "      <td>0.0</td>\n",
       "      <td>0.0</td>\n",
       "      <td>0</td>\n",
       "      <td>0</td>\n",
       "      <td>Blood Work</td>\n",
       "      <td>4.772177</td>\n",
       "      <td>2434.234222</td>\n",
       "      <td>17505.192460</td>\n",
       "    </tr>\n",
       "    <tr>\n",
       "      <th>3</th>\n",
       "      <td>MN</td>\n",
       "      <td>43.89744</td>\n",
       "      <td>-93.51479</td>\n",
       "      <td>Suburban</td>\n",
       "      <td>0.0</td>\n",
       "      <td>78</td>\n",
       "      <td>39741.49</td>\n",
       "      <td>Married</td>\n",
       "      <td>Male</td>\n",
       "      <td>0</td>\n",
       "      <td>...</td>\n",
       "      <td>0.0</td>\n",
       "      <td>0.0</td>\n",
       "      <td>0.0</td>\n",
       "      <td>0.0</td>\n",
       "      <td>1</td>\n",
       "      <td>1</td>\n",
       "      <td>Blood Work</td>\n",
       "      <td>1.714879</td>\n",
       "      <td>2127.830423</td>\n",
       "      <td>12993.437350</td>\n",
       "    </tr>\n",
       "    <tr>\n",
       "      <th>4</th>\n",
       "      <td>VA</td>\n",
       "      <td>37.59894</td>\n",
       "      <td>-76.88958</td>\n",
       "      <td>Rural</td>\n",
       "      <td>1.0</td>\n",
       "      <td>22</td>\n",
       "      <td>1209.56</td>\n",
       "      <td>Widowed</td>\n",
       "      <td>Female</td>\n",
       "      <td>0</td>\n",
       "      <td>...</td>\n",
       "      <td>1.0</td>\n",
       "      <td>0.0</td>\n",
       "      <td>0.0</td>\n",
       "      <td>1.0</td>\n",
       "      <td>0</td>\n",
       "      <td>0</td>\n",
       "      <td>CT Scan</td>\n",
       "      <td>1.254807</td>\n",
       "      <td>2113.073274</td>\n",
       "      <td>3716.525786</td>\n",
       "    </tr>\n",
       "  </tbody>\n",
       "</table>\n",
       "<p>5 rows × 32 columns</p>\n",
       "</div>"
      ],
      "text/plain": [
       "  State       Lat       Lng      Area  Children  Age    Income   Marital  \\\n",
       "0    AL  34.34960 -86.72508  Suburban       1.0   53  86575.93  Divorced   \n",
       "1    FL  30.84513 -85.22907     Urban       3.0   51  46805.99   Married   \n",
       "2    SD  43.54321 -96.63772  Suburban       3.0   53  14370.14   Widowed   \n",
       "3    MN  43.89744 -93.51479  Suburban       0.0   78  39741.49   Married   \n",
       "4    VA  37.59894 -76.88958     Rural       1.0   22   1209.56   Widowed   \n",
       "\n",
       "   Gender  ReAdmis  ...  Hyperlipidemia  BackPain  Anxiety  Allergic_rhinitis  \\\n",
       "0    Male        0  ...             0.0       1.0      1.0                1.0   \n",
       "1  Female        0  ...             0.0       0.0      0.0                0.0   \n",
       "2  Female        0  ...             0.0       0.0      0.0                0.0   \n",
       "3    Male        0  ...             0.0       0.0      0.0                0.0   \n",
       "4  Female        0  ...             1.0       0.0      0.0                1.0   \n",
       "\n",
       "   Reflux_esophagitis Asthma     Services  Initial_days  TotalCharge  \\\n",
       "0                   0      1   Blood Work     10.585770  3726.702860   \n",
       "1                   1      0  Intravenous     15.129562  4193.190458   \n",
       "2                   0      0   Blood Work      4.772177  2434.234222   \n",
       "3                   1      1   Blood Work      1.714879  2127.830423   \n",
       "4                   0      0      CT Scan      1.254807  2113.073274   \n",
       "\n",
       "   Additional_charges  \n",
       "0        17939.403420  \n",
       "1        17612.998120  \n",
       "2        17505.192460  \n",
       "3        12993.437350  \n",
       "4         3716.525786  \n",
       "\n",
       "[5 rows x 32 columns]"
      ]
     },
     "execution_count": 62,
     "metadata": {},
     "output_type": "execute_result"
    }
   ],
   "source": [
    "# import data frame\n",
    "df = pd.read_csv(\"/Users/kass/Desktop/CodingDojo/04-DataEnrichment/Week15/Data/Describing_Data.csv\")\n",
    "df.head()"
   ]
  },
  {
   "cell_type": "code",
   "execution_count": 63,
   "id": "3667b451",
   "metadata": {},
   "outputs": [
    {
     "name": "stdout",
     "output_type": "stream",
     "text": [
      "<class 'pandas.core.frame.DataFrame'>\n",
      "RangeIndex: 1000 entries, 0 to 999\n",
      "Data columns (total 32 columns):\n",
      " #   Column              Non-Null Count  Dtype  \n",
      "---  ------              --------------  -----  \n",
      " 0   State               995 non-null    object \n",
      " 1   Lat                 1000 non-null   float64\n",
      " 2   Lng                 1000 non-null   float64\n",
      " 3   Area                995 non-null    object \n",
      " 4   Children            993 non-null    float64\n",
      " 5   Age                 1000 non-null   int64  \n",
      " 6   Income              1000 non-null   float64\n",
      " 7   Marital             995 non-null    object \n",
      " 8   Gender              995 non-null    object \n",
      " 9   ReAdmis             1000 non-null   int64  \n",
      " 10  VitD_levels         1000 non-null   float64\n",
      " 11  Doc_visits          1000 non-null   int64  \n",
      " 12  Full_meals_eaten    1000 non-null   int64  \n",
      " 13  vitD_supp           1000 non-null   int64  \n",
      " 14  Soft_drink          1000 non-null   int64  \n",
      " 15  Initial_admin       995 non-null    object \n",
      " 16  HighBlood           1000 non-null   int64  \n",
      " 17  Stroke              1000 non-null   int64  \n",
      " 18  Complication_risk   995 non-null    object \n",
      " 19  Overweight          1000 non-null   int64  \n",
      " 20  Arthritis           994 non-null    float64\n",
      " 21  Diabetes            994 non-null    float64\n",
      " 22  Hyperlipidemia      998 non-null    float64\n",
      " 23  BackPain            992 non-null    float64\n",
      " 24  Anxiety             998 non-null    float64\n",
      " 25  Allergic_rhinitis   994 non-null    float64\n",
      " 26  Reflux_esophagitis  1000 non-null   int64  \n",
      " 27  Asthma              1000 non-null   int64  \n",
      " 28  Services            995 non-null    object \n",
      " 29  Initial_days        1000 non-null   float64\n",
      " 30  TotalCharge         1000 non-null   float64\n",
      " 31  Additional_charges  1000 non-null   float64\n",
      "dtypes: float64(14), int64(11), object(7)\n",
      "memory usage: 250.1+ KB\n"
     ]
    }
   ],
   "source": [
    "df.info()"
   ]
  },
  {
   "cell_type": "markdown",
   "id": "86777c28",
   "metadata": {},
   "source": [
    "##### Histogram VitD_levels\n",
    "- Add a line for the mean (red)\n",
    "- Add a line for the median (green)\n",
    "- Add a line for for +1 std from the mean (black)\n",
    "- Add a line for the - 1 std from the mean (black)\n",
    "- Highlight the range between +1 and =1 std (yellow)"
   ]
  },
  {
   "cell_type": "code",
   "execution_count": 64,
   "id": "68e25e3f",
   "metadata": {},
   "outputs": [],
   "source": [
    "# define data\n",
    "data = df['VitD_levels']"
   ]
  },
  {
   "cell_type": "code",
   "execution_count": 65,
   "id": "9a8a2df8",
   "metadata": {},
   "outputs": [
    {
     "data": {
      "text/plain": [
       "17.992380894860002"
      ]
     },
     "execution_count": 65,
     "metadata": {},
     "output_type": "execute_result"
    }
   ],
   "source": [
    "#define mean\n",
    "mean = df['VitD_levels'].mean()\n",
    "mean"
   ]
  },
  {
   "cell_type": "code",
   "execution_count": 66,
   "id": "427d6420",
   "metadata": {},
   "outputs": [
    {
     "data": {
      "text/plain": [
       "2.055337063805484"
      ]
     },
     "execution_count": 66,
     "metadata": {},
     "output_type": "execute_result"
    }
   ],
   "source": [
    "#find the standard devitation\n",
    "std_dev = np.std(df['VitD_levels'])\n",
    "std_dev"
   ]
  },
  {
   "cell_type": "code",
   "execution_count": 67,
   "id": "dfef97c8",
   "metadata": {},
   "outputs": [
    {
     "data": {
      "text/plain": [
       "15.937043831054517"
      ]
     },
     "execution_count": 67,
     "metadata": {},
     "output_type": "execute_result"
    }
   ],
   "source": [
    "LowSTD = mean - std_dev\n",
    "LowSTD"
   ]
  },
  {
   "cell_type": "code",
   "execution_count": 68,
   "id": "be11fa64",
   "metadata": {},
   "outputs": [
    {
     "data": {
      "text/plain": [
       "20.047717958665487"
      ]
     },
     "execution_count": 68,
     "metadata": {},
     "output_type": "execute_result"
    }
   ],
   "source": [
    "HighSTD = mean + std_dev\n",
    "HighSTD"
   ]
  },
  {
   "cell_type": "code",
   "execution_count": 69,
   "id": "0625c788",
   "metadata": {},
   "outputs": [
    {
     "data": {
      "text/plain": [
       "<matplotlib.patches.Polygon at 0x2aea0c130>"
      ]
     },
     "execution_count": 69,
     "metadata": {},
     "output_type": "execute_result"
    },
    {
     "data": {
      "image/png": "[encoded data removed]",
      "text/plain": [
       "<Figure size 1000x600 with 1 Axes>"
      ]
     },
     "metadata": {},
     "output_type": "display_data"
    }
   ],
   "source": [
    "fig,ax = plt.subplots(figsize=(10,6))\n",
    "sns.histplot(x=data, stat='density',kde=True)\n",
    "#set title\n",
    "ax.set_title('Distribution of VitaminD Levels')\n",
    "#mark mean in red\n",
    "ax.axvline(mean, color = 'red')\n",
    "#add +1 and =1 std dev in black \n",
    "ax.axvline(mean + std_dev, color='black')\n",
    "ax.axvline(mean - std_dev, color='black')\n",
    "# hightlight the range between +1 and =1 std dev\n",
    "ax.axvspan(LowSTD, HighSTD, color ='yellow', zorder = 0)"
   ]
  },
  {
   "cell_type": "code",
   "execution_count": 70,
   "id": "abb284e8",
   "metadata": {},
   "outputs": [
    {
     "name": "stdout",
     "output_type": "stream",
     "text": [
      "Leptokurtic\n"
     ]
    }
   ],
   "source": [
    "data = np.random.normal(0, 1, 1000)  # Generate 1000 random data points with mean 0 and std 1\n",
    "kurtosis_value = kurtosis(data)\n",
    "\n",
    "if kurtosis_value > 0:\n",
    "    print(\"Leptokurtic\")\n",
    "elif kurtosis_value < 0:\n",
    "    print(\"Platykurtic\")\n",
    "else:\n",
    "    print(\"Mesokurtic\")\n"
   ]
  },
  {
   "cell_type": "markdown",
   "id": "2b1ade3d",
   "metadata": {},
   "source": [
    "##### Answer the following questions:\n",
    "- Is it Discrete or Continuous?\n",
    "    - Continuous \n",
    "- Does it have a skew? If so, which direction (+/-)\n",
    "    - No skew\n",
    "- What type of kurtosis does it display? (Mesokurtic, Leptokurtic, Platykurtic)\n",
    "    - Leptokurtic"
   ]
  },
  {
   "cell_type": "markdown",
   "id": "08d8aa0c",
   "metadata": {},
   "source": [
    "### Histogram Doc_visits\n",
    "- Add a line for the mean (red)\n",
    "- Add a line for the median (green)\n",
    "- Add a line for for +1 std from the mean (black)\n",
    "- Add a line for the - 1 std from the mean (black)\n",
    "- Highlight the range between +1 and =1 std (yellow)"
   ]
  },
  {
   "cell_type": "code",
   "execution_count": 71,
   "id": "7a7571a7",
   "metadata": {},
   "outputs": [],
   "source": [
    "# define data\n",
    "data = df['Doc_visits']"
   ]
  },
  {
   "cell_type": "code",
   "execution_count": 72,
   "id": "ee2cbae5",
   "metadata": {},
   "outputs": [
    {
     "data": {
      "text/plain": [
       "4.992"
      ]
     },
     "execution_count": 72,
     "metadata": {},
     "output_type": "execute_result"
    }
   ],
   "source": [
    "#define mean\n",
    "mean = data.mean()\n",
    "mean"
   ]
  },
  {
   "cell_type": "code",
   "execution_count": 73,
   "id": "39883ad2",
   "metadata": {},
   "outputs": [
    {
     "data": {
      "text/plain": [
       "1.047824412771526"
      ]
     },
     "execution_count": 73,
     "metadata": {},
     "output_type": "execute_result"
    }
   ],
   "source": [
    "#find the standard devitation\n",
    "std_dev = np.std(data)\n",
    "std_dev"
   ]
  },
  {
   "cell_type": "code",
   "execution_count": 74,
   "id": "b85cc5b0",
   "metadata": {},
   "outputs": [
    {
     "data": {
      "text/plain": [
       "3.9441755872284743"
      ]
     },
     "execution_count": 74,
     "metadata": {},
     "output_type": "execute_result"
    }
   ],
   "source": [
    "LowSTD = mean - std_dev\n",
    "LowSTD"
   ]
  },
  {
   "cell_type": "code",
   "execution_count": 75,
   "id": "6016814b",
   "metadata": {},
   "outputs": [
    {
     "data": {
      "text/plain": [
       "6.039824412771526"
      ]
     },
     "execution_count": 75,
     "metadata": {},
     "output_type": "execute_result"
    }
   ],
   "source": [
    "HighSTD = mean + std_dev\n",
    "HighSTD"
   ]
  },
  {
   "cell_type": "code",
   "execution_count": 76,
   "id": "02aa06bf",
   "metadata": {},
   "outputs": [
    {
     "data": {
      "text/plain": [
       "<matplotlib.patches.Polygon at 0x2aea99e20>"
      ]
     },
     "execution_count": 76,
     "metadata": {},
     "output_type": "execute_result"
    },
    {
     "data": {
      "image/png": "[encoded data removed]",
      "text/plain": [
       "<Figure size 1000x600 with 1 Axes>"
      ]
     },
     "metadata": {},
     "output_type": "display_data"
    }
   ],
   "source": [
    "fig,ax = plt.subplots(figsize=(10,6))\n",
    "sns.histplot(x=data, stat='density',kde=True)\n",
    "#set title\n",
    "ax.set_title('Distribution of Doctor Visits')\n",
    "#mark mean in red\n",
    "ax.axvline(mean, color = 'red')\n",
    "#add +1 and =1 std dev in black \n",
    "ax.axvline(mean + std_dev, color='black')\n",
    "ax.axvline(mean - std_dev, color='black')\n",
    "# hightlight the range between +1 and =1 std dev\n",
    "ax.axvspan(LowSTD, HighSTD, color ='yellow', zorder = 0)"
   ]
  },
  {
   "cell_type": "code",
   "execution_count": 77,
   "id": "84d33aa4",
   "metadata": {},
   "outputs": [
    {
     "name": "stdout",
     "output_type": "stream",
     "text": [
      "Leptokurtic\n"
     ]
    }
   ],
   "source": [
    "data = np.random.normal(0, 1, 1000)  # Generate 1000 random data points with mean 0 and std 1\n",
    "kurtosis_value = kurtosis(data)\n",
    "\n",
    "if kurtosis_value > 0:\n",
    "    print(\"Leptokurtic\")\n",
    "elif kurtosis_value < 0:\n",
    "    print(\"Platykurtic\")\n",
    "else:\n",
    "    print(\"Mesokurtic\")\n"
   ]
  },
  {
   "cell_type": "markdown",
   "id": "687750bc",
   "metadata": {},
   "source": [
    "##### Answer the following questions:\n",
    "- Is it Discrete or Continuous?\n",
    "    - Discrete\n",
    "- Does it have a skew? If so, which direction (+/-)\n",
    "    - No Skew\n",
    "- What type of kurtosis does it display? (Mesokurtic, Leptokurtic, Platykurtic)\n",
    "    - Leptokurtic"
   ]
  },
  {
   "cell_type": "markdown",
   "id": "0a7b1036",
   "metadata": {},
   "source": [
    "### Histogram Total Charge\n",
    "- Add a line for the mean (red)\n",
    "- Add a line for the median (green)\n",
    "- Add a line for for +1 std from the mean (black)\n",
    "- Add a line for the - 1 std from the mean (black)\n",
    "- Highlight the range between +1 and =1 std (yellow)"
   ]
  },
  {
   "cell_type": "code",
   "execution_count": 47,
   "id": "b5d4e3c1",
   "metadata": {},
   "outputs": [],
   "source": [
    "# define data\n",
    "data = df['TotalCharge']"
   ]
  },
  {
   "cell_type": "code",
   "execution_count": 48,
   "id": "38e5e4c5",
   "metadata": {},
   "outputs": [
    {
     "data": {
      "text/plain": [
       "3240.9716133389998"
      ]
     },
     "execution_count": 48,
     "metadata": {},
     "output_type": "execute_result"
    }
   ],
   "source": [
    "#define mean\n",
    "mean = data.mean()\n",
    "mean"
   ]
  },
  {
   "cell_type": "code",
   "execution_count": 49,
   "id": "fb4ed1e9",
   "metadata": {},
   "outputs": [
    {
     "data": {
      "text/plain": [
       "600.1134404773934"
      ]
     },
     "execution_count": 49,
     "metadata": {},
     "output_type": "execute_result"
    }
   ],
   "source": [
    "#find the standard devitation\n",
    "std_dev = np.std(data)\n",
    "std_dev"
   ]
  },
  {
   "cell_type": "code",
   "execution_count": 50,
   "id": "32913cfb",
   "metadata": {},
   "outputs": [
    {
     "data": {
      "text/plain": [
       "2640.8581728616064"
      ]
     },
     "execution_count": 50,
     "metadata": {},
     "output_type": "execute_result"
    }
   ],
   "source": [
    "LowSTD = mean - std_dev\n",
    "LowSTD"
   ]
  },
  {
   "cell_type": "code",
   "execution_count": 51,
   "id": "479debef",
   "metadata": {},
   "outputs": [
    {
     "data": {
      "text/plain": [
       "3841.085053816393"
      ]
     },
     "execution_count": 51,
     "metadata": {},
     "output_type": "execute_result"
    }
   ],
   "source": [
    "HighSTD = mean + std_dev\n",
    "HighSTD"
   ]
  },
  {
   "cell_type": "code",
   "execution_count": 52,
   "id": "e8693a1f",
   "metadata": {},
   "outputs": [
    {
     "data": {
      "text/plain": [
       "<matplotlib.patches.Polygon at 0x2a9b2d550>"
      ]
     },
     "execution_count": 52,
     "metadata": {},
     "output_type": "execute_result"
    },
    {
     "data": {
      "image/png": "[encoded data removed]",
      "text/plain": [
       "<Figure size 1000x600 with 1 Axes>"
      ]
     },
     "metadata": {},
     "output_type": "display_data"
    }
   ],
   "source": [
    "fig,ax = plt.subplots(figsize=(10,6))\n",
    "sns.histplot(x=data, stat='density',kde=True)\n",
    "#set title\n",
    "ax.set_title('Distribution of Doctor Visits')\n",
    "#mark mean in red\n",
    "ax.axvline(mean, color = 'red')\n",
    "#add +1 and =1 std dev in black \n",
    "ax.axvline(mean + std_dev, color='black')\n",
    "ax.axvline(mean - std_dev, color='black')\n",
    "# hightlight the range between +1 and =1 std dev\n",
    "ax.axvspan(LowSTD, HighSTD, color ='yellow', zorder = 0)"
   ]
  },
  {
   "cell_type": "code",
   "execution_count": 58,
   "id": "d5de8f65",
   "metadata": {},
   "outputs": [
    {
     "name": "stdout",
     "output_type": "stream",
     "text": [
      "Platykurtic\n"
     ]
    }
   ],
   "source": [
    "data = np.random.normal(0, 1, 1000)  # Generate 1000 random data points with mean 0 and std 1\n",
    "kurtosis_value = kurtosis(data)\n",
    "\n",
    "if kurtosis_value > 0:\n",
    "    print(\"Leptokurtic\")\n",
    "elif kurtosis_value < 0:\n",
    "    print(\"Platykurtic\")\n",
    "else:\n",
    "    print(\"Mesokurtic\")\n"
   ]
  },
  {
   "cell_type": "markdown",
   "id": "cef54ef7",
   "metadata": {},
   "source": [
    "##### Answer the following questions:\n",
    "- Is it Discrete or Continuous?\n",
    "    - Continuous \n",
    "- Does it have a skew? If so, which direction (+/-)\n",
    "    - Positive skew\n",
    "- What type of kurtosis does it display? (Mesokurtic, Leptokurtic, Platykurtic)\n",
    "    - Platykurtic"
   ]
  },
  {
   "cell_type": "code",
   "execution_count": null,
   "id": "6734b723",
   "metadata": {},
   "outputs": [],
   "source": []
  }
 ],
 "metadata": {
  "kernelspec": {
   "display_name": "Python (dojo-env)",
   "language": "python",
   "name": "dojo-env"
  },
  "language_info": {
   "codemirror_mode": {
    "name": "ipython",
    "version": 3
   },
   "file_extension": ".py",
   "mimetype": "text/x-python",
   "name": "python",
   "nbconvert_exporter": "python",
   "pygments_lexer": "ipython3",
   "version": "3.9.15"
  },
  "toc": {
   "base_numbering": 1,
   "nav_menu": {},
   "number_sections": true,
   "sideBar": true,
   "skip_h1_title": false,
   "title_cell": "Table of Contents",
   "title_sidebar": "Contents",
   "toc_cell": false,
   "toc_position": {},
   "toc_section_display": true,
   "toc_window_display": false
  }
 },
 "nbformat": 4,
 "nbformat_minor": 5
}
